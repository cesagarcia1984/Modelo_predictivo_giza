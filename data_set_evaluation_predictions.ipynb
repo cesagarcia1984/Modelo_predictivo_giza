{
 "cells": [
  {
   "cell_type": "code",
   "execution_count": 22,
   "metadata": {},
   "outputs": [],
   "source": [
    "\n",
    "import os\n",
    "\n",
    "def split_file(input_file, output_prefix, max_size_mb):\n",
    "    \n",
    "    file_size = os.path.getsize(input_file)\n",
    "    \n",
    "    max_size_bytes = max_size_mb * 1024 * 1024\n",
    "    \n",
    "    current_position = 0\n",
    "    \n",
    "    with open(input_file, 'rb') as f:\n",
    "        while current_position < file_size:\n",
    "            \n",
    "            f.seek(current_position)\n",
    "            \n",
    "            part_data = f.read(max_size_bytes)\n",
    "            \n",
    "            output_file = f\"{output_prefix}_{current_position // max_size_bytes}.csv\"\n",
    "            with open(output_file, 'wb') as part_file:\n",
    "                part_file.write(part_data)\n",
    "            \n",
    "            current_position += len(part_data)\n",
    "\n",
    "input_file = \"venv/data_set_evaluation_predictions.csv\"\n",
    "output_prefix = \"parte\"\n",
    "max_size_mb = 25\n",
    "split_file(input_file, output_prefix, max_size_mb)\n"
   ]
  }
 ],
 "metadata": {
  "kernelspec": {
   "display_name": ".venv",
   "language": "python",
   "name": "python3"
  },
  "language_info": {
   "codemirror_mode": {
    "name": "ipython",
    "version": 3
   },
   "file_extension": ".py",
   "mimetype": "text/x-python",
   "name": "python",
   "nbconvert_exporter": "python",
   "pygments_lexer": "ipython3",
   "version": "3.11.5"
  }
 },
 "nbformat": 4,
 "nbformat_minor": 2
}
